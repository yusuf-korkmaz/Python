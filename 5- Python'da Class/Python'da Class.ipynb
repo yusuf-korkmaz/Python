{
 "cells": [
  {
   "cell_type": "code",
   "execution_count": 111,
   "metadata": {
    "collapsed": false
   },
   "outputs": [],
   "source": [
    "class Person: # class tanımlaması bu şekilde yapılır\n",
    "    def __init__(self,isim,soyad): # java'daki constructor ile aynı yapı.\n",
    "        self.isim = isim # değişken tanımlaması . self kullanarak class değişkeni olduğunu belirtiriz\n",
    "        self.soyisim = soyad # değişken tanımlaması.self kullanmazsak metod değişkeni olarak anlaşılır.\n",
    "    def toString(self): # her metodun parametresine self'i vermeliyiz,yoksa class değişkenlerini kullanamayız\n",
    "        print(self.isim+\" \"+self.soyisim) # class metodu tanımlaması . isim ve soyismi yazdırıyoruz.\n",
    "    def __str__(self): # __str__ metodu javadaki toString metoduna karşılık gelmektedir.\n",
    "        \"\"\"objeyi 'print()' fonksiyonunun içine yazdığımız taktirde return edilen değeri ekrana yazar\"\"\"\n",
    "        return \"Benim adım \" + self.isim+\" \"+self.soyisim"
   ]
  },
  {
   "cell_type": "code",
   "execution_count": 60,
   "metadata": {
    "collapsed": false
   },
   "outputs": [
    {
     "name": "stdout",
     "output_type": "stream",
     "text": [
      "yusuf korkmaz\n",
      "Benim adım yusuf korkmaz\n",
      "objeyi 'print()' fonksiyonunun içine yazdığımız taktirde return edilen değeri ekrana yazar\n",
      "23\n"
     ]
    },
    {
     "ename": "AttributeError",
     "evalue": "'Person' object has no attribute 'yas'",
     "output_type": "error",
     "traceback": [
      "\u001b[0;31m---------------------------------------------------------------------------\u001b[0m",
      "\u001b[0;31mAttributeError\u001b[0m                            Traceback (most recent call last)",
      "\u001b[0;32m<ipython-input-60-8813cd6d9722>\u001b[0m in \u001b[0;36m<module>\u001b[0;34m()\u001b[0m\n\u001b[1;32m      7\u001b[0m \u001b[0mprint\u001b[0m\u001b[0;34m(\u001b[0m\u001b[0mperson\u001b[0m\u001b[0;34m.\u001b[0m\u001b[0myas\u001b[0m\u001b[0;34m)\u001b[0m\u001b[0;34m\u001b[0m\u001b[0m\n\u001b[1;32m      8\u001b[0m \u001b[0mperson2\u001b[0m \u001b[0;34m=\u001b[0m \u001b[0mPerson\u001b[0m\u001b[0;34m(\u001b[0m\u001b[0;34m\"Ahmet\"\u001b[0m\u001b[0;34m,\u001b[0m\u001b[0;34m\"Ak\"\u001b[0m\u001b[0;34m)\u001b[0m\u001b[0;34m\u001b[0m\u001b[0m\n\u001b[0;32m----> 9\u001b[0;31m \u001b[0mprint\u001b[0m\u001b[0;34m(\u001b[0m\u001b[0mperson2\u001b[0m\u001b[0;34m.\u001b[0m\u001b[0myas\u001b[0m\u001b[0;34m)\u001b[0m \u001b[0;31m# Person objesinin yas diye bir özelliği yok hatası aldık.\u001b[0m\u001b[0;34m\u001b[0m\u001b[0m\n\u001b[0m",
      "\u001b[0;31mAttributeError\u001b[0m: 'Person' object has no attribute 'yas'"
     ]
    }
   ],
   "source": [
    "person = Person(\"yusuf\",\"korkmaz\") # Person class ına ait person objesi oluşturduk. isim ve soyisim'i parametre olarak verdik.\n",
    "person.toString() # Person class'ına ait toString metodunu person objesi üzerinden çağırdık ve ekrana yazdırdık.\n",
    "print(person)\n",
    "print(person.__str__.__doc__) #__str__ objesindeki documentation kısmını yazdırır.\n",
    "person.yas = 23; # class'ta tanımlamadığımız değişkenleri daha sonrasında belirtip tanımlayabiliyoruz.\n",
    "#Ama bu tanımlama sadece person objesi için geçerlidir başkabir onje oluşturduğumuzda 'yas' diye bir değişkeni olmayacaktır.\n",
    "print(person.yas)\n",
    "person2 = Person(\"Ahmet\",\"Ak\")\n",
    "print(person2.yas) # Person objesinin yas diye bir özelliği yok hatası aldık."
   ]
  },
  {
   "cell_type": "code",
   "execution_count": 56,
   "metadata": {
    "collapsed": false
   },
   "outputs": [],
   "source": [
    "#Kalıtım\n",
    "class Developer(Person): # Developer class'ını Person class'ından kalıtma şeklimiz\n",
    "    def __init__(self,isim,soyisim,alan): #Constructor , Person Constructor ını çok benzer,lakin ek olarak alan tanımlaması gelmiş\n",
    "        Person.__init__(self,isim,soyisim) #Super . Bir üst class'ın Constructor'ının çağrılış şekli\n",
    "        self.alan = alan # Developer class'ına ait değişken\n",
    "    def __str__(self): # 'print()' fonksiyonunun içerisine yazdığımızda çalışmasını istediğimiz kısım\n",
    "        return Person.__str__(self) +\" çalıştığım alan ise \"+self.alan #üst classımızında __str__ metodunu çağırdık."
   ]
  },
  {
   "cell_type": "code",
   "execution_count": 59,
   "metadata": {
    "collapsed": false
   },
   "outputs": [
    {
     "name": "stdout",
     "output_type": "stream",
     "text": [
      "Benim adım Yusuf Korkmaz çalıştığım alan ise Veri Bilimi\n",
      "Yusuf Korkmaz\n"
     ]
    },
    {
     "ename": "AttributeError",
     "evalue": "'function' object has no attribute 'doc'",
     "output_type": "error",
     "traceback": [
      "\u001b[0;31m---------------------------------------------------------------------------\u001b[0m",
      "\u001b[0;31mAttributeError\u001b[0m                            Traceback (most recent call last)",
      "\u001b[0;32m<ipython-input-59-53f506105391>\u001b[0m in \u001b[0;36m<module>\u001b[0;34m()\u001b[0m\n\u001b[1;32m      2\u001b[0m \u001b[0mprint\u001b[0m\u001b[0;34m(\u001b[0m\u001b[0mdeveloper\u001b[0m\u001b[0;34m)\u001b[0m \u001b[0;31m# __str__ metodunu çağıracak\u001b[0m\u001b[0;34m\u001b[0m\u001b[0m\n\u001b[1;32m      3\u001b[0m \u001b[0mdeveloper\u001b[0m\u001b[0;34m.\u001b[0m\u001b[0mtoString\u001b[0m\u001b[0;34m(\u001b[0m\u001b[0;34m)\u001b[0m \u001b[0;31m# Kalıtım sayesinde Person class'ına ait metodlara,değişkenlere de ulaşabilmekteyiz.\u001b[0m\u001b[0;34m\u001b[0m\u001b[0m\n\u001b[0;32m----> 4\u001b[0;31m \u001b[0mprint\u001b[0m\u001b[0;34m(\u001b[0m\u001b[0mdeveloper\u001b[0m\u001b[0;34m.\u001b[0m\u001b[0m__str__\u001b[0m\u001b[0;34m.\u001b[0m\u001b[0mdoc\u001b[0m\u001b[0;34m(\u001b[0m\u001b[0;34m)\u001b[0m\u001b[0;34m)\u001b[0m\u001b[0;34m\u001b[0m\u001b[0m\n\u001b[0m",
      "\u001b[0;31mAttributeError\u001b[0m: 'function' object has no attribute 'doc'"
     ]
    }
   ],
   "source": [
    "developer = Developer(\"Yusuf\",\"Korkmaz\",\"Veri Bilimi\") # Developer class'ına ait objemiz\n",
    "print(developer) # __str__ metodunu çağıracak\n",
    "developer.toString() # Kalıtım sayesinde Person class'ına ait metodlara,değişkenlere de ulaşabilmekteyiz."
   ]
  },
  {
   "cell_type": "code",
   "execution_count": 151,
   "metadata": {
    "collapsed": false
   },
   "outputs": [
    {
     "name": "stdout",
     "output_type": "stream",
     "text": [
      "Benim adım yusuf korkmaz\n"
     ]
    }
   ],
   "source": [
    "method_objesi = person.__str__ # methodoları değişkenlerde de tutabiliriz\n",
    "print(method_objesi())"
   ]
  },
  {
   "cell_type": "code",
   "execution_count": 153,
   "metadata": {
    "collapsed": false
   },
   "outputs": [
    {
     "name": "stdout",
     "output_type": "stream",
     "text": [
      "A exception\n",
      "B exception\n",
      "C exception\n"
     ]
    }
   ],
   "source": [
    "#Exception\n",
    "class A (Exception):\n",
    "    pass\n",
    "class B (A):\n",
    "    pass\n",
    "class C (B):\n",
    "    pass\n",
    "\n",
    "for current in [A,B,C]:\n",
    "    try:\n",
    "        raise current\n",
    "    except C:\n",
    "        print(\"C exception\")\n",
    "    except B:\n",
    "        print(\"B exception\")\n",
    "    except A:\n",
    "        print(\"A exception\")\n",
    "\n",
    "# A en üstte olsaydı , B ve C exception'ı A dan türetildiği için,hepsi aslında A nın içerisinde yer aldığından 'except A' kısmında yakalanacak ve diğerlerine bakılmayacaktı\n",
    "# sırayla a,b,c exceptionlarını fırlatıyoruz.\n",
    "# ilk olarak a exception ı en altta yakalanıyor,çünkü except en küçük'ten başlayarak kontrol ediyor\n",
    "# genel olarak exception yakalama işlemleri en küçük'ten enbüyüğe doğru sıralanır.\n",
    "# ardından b exception'ı ve c exception'ı yakalanır.\n"
   ]
  }
 ],
 "metadata": {
  "kernelspec": {
   "display_name": "Python 3",
   "language": "python",
   "name": "python3"
  },
  "language_info": {
   "codemirror_mode": {
    "name": "ipython",
    "version": 3
   },
   "file_extension": ".py",
   "mimetype": "text/x-python",
   "name": "python",
   "nbconvert_exporter": "python",
   "pygments_lexer": "ipython3",
   "version": "3.5.1"
  }
 },
 "nbformat": 4,
 "nbformat_minor": 0
}
