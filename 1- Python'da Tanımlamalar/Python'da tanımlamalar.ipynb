{
 "cells": [
  {
   "cell_type": "code",
   "execution_count": 1,
   "metadata": {
    "collapsed": true
   },
   "outputs": [],
   "source": [
    "# Yorum yazmak için sharp veya diyez işaretini kullanıyoruz\n"
   ]
  },
  {
   "cell_type": "code",
   "execution_count": 7,
   "metadata": {
    "collapsed": false
   },
   "outputs": [
    {
     "name": "stdout",
     "output_type": "stream",
     "text": [
      "Python'a giriş text 1\n",
      "Python\"a giriş text 2\n",
      "Python'a giriş text 3.1\n",
      "Python'a giriş text 3.2\n",
      "Python'a giriş text 3.3\n"
     ]
    }
   ],
   "source": [
    "# Text objesi 3 şekilde gerçekleştirilebilir :   \"text\" - 'text' - \"\"\" text \"\"\" \n",
    "text1 = \"Python'a giriş text 1\" # \"text\" ile gerçekleştireiblirsek string imizde ' imleci kullanabiliriz.\n",
    "print(text1)\n",
    "text2 = 'Python\"a giriş text 2' # 'text' ile gerçekleştireiblirsek string imizde \" imleci kullanabiliriz.\n",
    "print(text2) \n",
    "text3 = \"\"\"Python'a giriş text 3.1\n",
    "Python'a giriş text 3.2\n",
    "Python'a giriş text 3.3\"\"\" # \"\"\" text \"\"\" ile gerçekleştireiblirsek string imizde birden fazla satır kullanabiliriz.\n",
    "print(text3)"
   ]
  },
  {
   "cell_type": "code",
   "execution_count": 22,
   "metadata": {
    "collapsed": false
   },
   "outputs": [
    {
     "name": "stdout",
     "output_type": "stream",
     "text": [
      "20\n",
      "56\n",
      "2.727272727272727\n",
      "10\n"
     ]
    }
   ],
   "source": [
    "# Matematiksel işlemler \n",
    "2+2 # toplama işlemi (bir objeye atamadığımız için tekrar kullanmak istediğimizde sıkıntı olabilir.)\n",
    "8/3 # bölme işlemi (long tipinde tutar küsüratıda işlem sonucunda gösterir)\n",
    "2*3 # çarpma işlemi\n",
    "4**3 # üst işlemi ( 4 üzeri 3 (** koyarak üzeri işlemi gerçekleştirilir))\n",
    "8//3 # bölme işlemi (virgülden sonrasını tutmaz)\n",
    "8%5 # mod işlemi (modunu alır iki sayının bölümünden kalan ı gösterir)\n",
    "\n",
    "toplama = 5+15\n",
    "print(toplama)\n",
    "çarpma = 7*8\n",
    "print(çarpma)\n",
    "bölme = 30/11\n",
    "print(bölme)\n",
    "çıkartma = 15-5\n",
    "print(çıkartma)\n"
   ]
  },
  {
   "cell_type": "code",
   "execution_count": 30,
   "metadata": {
    "collapsed": false
   },
   "outputs": [
    {
     "name": "stdout",
     "output_type": "stream",
     "text": [
      "Python'a giriş\n",
      "C:\\some\n",
      "ame\n",
      "C:\\some\\name\n",
      "Merhaba Merhaba Merhaba  Dünya\n",
      "Merhaba Dünya\n"
     ]
    }
   ],
   "source": [
    "# String\n",
    "text1 = 'Python\\'a giriş' # ' imlecini kullanmak için başına \\ karakteri yerleştirilir.(\"Python'a giriş\" de yazılabilir.) \n",
    "print(text1)\n",
    "print('C:\\some\\name') # name kısmında bir satır aşağı geçecek ve 'ame' yacak çünkü \\n satır atlama operatörüdür.\n",
    "print(r'C:\\some\\name') # bunu önlemek için başına 'r' karakteri konulur.\n",
    "print(3* \"Merhaba \" , \"Dünya\") # Merhaba yı 3 kere yazma işlemini yapar.\n",
    "text2 = \"Merhaba \"\n",
    "print(text2 + \"Dünya\") # + operatörü stringlerde birleştirme işlemini gerçekleştirir."
   ]
  },
  {
   "cell_type": "code",
   "execution_count": 39,
   "metadata": {
    "collapsed": false
   },
   "outputs": [
    {
     "name": "stdout",
     "output_type": "stream",
     "text": [
      "M\n",
      "a\n",
      "y\n",
      "Merha\n",
      "ba Dünya\n",
      "Merhaba Düny\n",
      "13\n"
     ]
    }
   ],
   "source": [
    "# String \n",
    "kelime = \"Merhaba Dünya\" # her string bir karakter dizisidir.\n",
    "print(kelime[0]) #  0 . karakteri yazdır\n",
    "print(kelime[-1]) # sondan başa doğru gelinmek istenirse -1,-2 şeklinde devam eder. -1 sondan ilk karakterdir\n",
    "print(kelime[-2])\n",
    "print(kelime[:5]) # en baştan 5. karakter e kadar yazdır\n",
    "print(kelime[5:]) # 5. karakterden sona kadar yazdır\n",
    "print(kelime[:-1]) # -1 e kadar yazdır ... yani en son karakter e kadar.\n",
    "print(len(kelime)) # len(text) metodu parametre olarak aldığı string in uzunluğunu doldurur."
   ]
  },
  {
   "cell_type": "code",
   "execution_count": 3,
   "metadata": {
    "collapsed": false
   },
   "outputs": [
    {
     "name": "stdout",
     "output_type": "stream",
     "text": [
      "[1, 3, 5, 7, 9, 11]\n",
      "7\n",
      "[1, 5, 7, 9, 11]\n",
      "[1, 5, 21, 7, 9, 11]\n",
      "2\n",
      "11\n",
      "[1, 5, 21, 7, 9]\n",
      "[9, 7, 21, 5, 1]\n"
     ]
    }
   ],
   "source": [
    "# List\n",
    "liste = [1,3,5,7,9] # listeyi köşeli parantezler ile oluşturuyoruz. Eğer içi boş olsaydı boş bir dizi elde ederdik.\n",
    "liste.append(11) # append ekleme işlemini gerçekleştirir.En sona 11 elemanını ekle.\n",
    "print(liste) # print e parametre olarak liste'mizi verirsek her elemanı yazdırır. Buda güzel bir özellik \n",
    "print(liste[3]) # liste nin 3. elemanını yazdır. \n",
    "#[String için yaptığımız işlemlerin hepsi liste içinde geçerli zaten string de bir karakter listesi.\n",
    "# Ammmaaa arada tek bir fark var string immutable(değişken olmayan) dir ]\n",
    "liste.remove(3) # verdiğiniz objeyi listeden silir. indexli objeyi değil direk parametre de verdiğiniz neyse onu siler\n",
    "print(liste) # 3 silindi.\n",
    "liste.insert(2,21) # ikinci elemana 21 değeri ekle . Diğer elemanlar birer adım kaydırılır.\n",
    "print(liste)\n",
    "print(liste.index(21)) # 21 elemanının index i nedir diye sorduk ve bize index ini döndürdü\n",
    "print(liste.pop()) # pop() ta ise stack te ki mantık en sondaki elemanı döndürür ve siler\n",
    "print(liste)\n",
    "liste.reverse() # reverse() anlamınada bakılacağı gibi listeyi ters çevirir.\n",
    "print(liste)\n",
    "# bir kaçtane daha metodları olmasına rağmen . Şimdilik bukadarın kafi geleceğinden yanayım."
   ]
  },
  {
   "cell_type": "code",
   "execution_count": null,
   "metadata": {
    "collapsed": true
   },
   "outputs": [],
   "source": []
  }
 ],
 "metadata": {
  "kernelspec": {
   "display_name": "Python 3",
   "language": "python",
   "name": "python3"
  },
  "language_info": {
   "codemirror_mode": {
    "name": "ipython",
    "version": 3
   },
   "file_extension": ".py",
   "mimetype": "text/x-python",
   "name": "python",
   "nbconvert_exporter": "python",
   "pygments_lexer": "ipython3",
   "version": "3.5.1"
  }
 },
 "nbformat": 4,
 "nbformat_minor": 0
}
