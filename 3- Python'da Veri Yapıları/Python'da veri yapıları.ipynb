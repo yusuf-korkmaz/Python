{
 "cells": [
  {
   "cell_type": "code",
   "execution_count": 10,
   "metadata": {
    "collapsed": false
   },
   "outputs": [
    {
     "name": "stdout",
     "output_type": "stream",
     "text": [
      "[1, 2, 3, 'dört', 'beş', 'altı']\n",
      "[1, 2, 3, 'dört', 'beş', 'altı', ['sekiz', 9]]\n",
      "['sekiz', 9]\n",
      "9\n",
      "[1, 2, 3, 'dört', 'beş', 'altı', ['sekiz', 9], 'on', 11]\n"
     ]
    }
   ],
   "source": [
    "# List \n",
    "liste = [1,2,3,\"dört\",\"beş\",\"altı\"] # listeyi oluşturur [] köşeli parantezler liste içindir.\n",
    "print(liste)\n",
    "liste.append([\"sekiz\",9]) # appen ile ekleme yaptığımızda parametre olarak verdiğimiz objeyi bir eleman alır\n",
    "print(liste)\n",
    "print(liste[6]) # sekiz , 9 u bir eleman olarak döndürdü . 6. eleman sekiz ve 9 un olduğu bir liste\n",
    "print(liste[6][1])\n",
    "liste = liste + [\"on\",11] # listeyi bu liste ile topla ve geri döndür yaptığımızda iki listeyi birleştirdi\n",
    "print(liste)"
   ]
  },
  {
   "cell_type": "code",
   "execution_count": 32,
   "metadata": {
    "collapsed": false
   },
   "outputs": [
    {
     "name": "stdout",
     "output_type": "stream",
     "text": [
      "[0, 1, 4, 9, 16, 25, 36, 49, 64, 81]\n",
      "[0, 1, 4, 9, 16, 25, 36, 49, 64, 81]\n",
      "[(0, 2), (0, 4), (1, 0), (1, 2), (1, 4), (2, 0), (2, 4), (3, 0), (3, 2), (3, 4), (4, 0), (4, 2)]\n",
      "[(0, 0), (0, 4), (1, 0), (1, 2), (1, 4), (2, 0), (2, 4), (3, 0), (3, 2), (3, 4), (4, 0), (4, 2)]\n",
      "(0, 0)  -  <class 'tuple'>\n"
     ]
    }
   ],
   "source": [
    "# List Comprehensions\n",
    "liste = []\n",
    "for index in range(10):\n",
    "    liste.append(index**2)\n",
    "print(liste)\n",
    "\n",
    "liste2 = [x**2 for x in range(10)] # yukarıdaki işlemin tek satıra indirgenmiş hali\n",
    "print(liste2)\n",
    "\n",
    "liste3 = [(x,y) for x in range(5) for y in range(0,5,2) if x != y] # büyük bir kolaylık sağladığını söyliyebiliriz\n",
    "print(liste3)\n",
    "liste3[0]= (0,0)\n",
    "print(liste3)\n",
    "print(liste3[0], \" - \" , type(liste3[0])) # türü ne merak ettiğimiz () parantezlerle yapılan obje nin 'tuple' çıktı "
   ]
  },
  {
   "cell_type": "code",
   "execution_count": 67,
   "metadata": {
    "collapsed": false
   },
   "outputs": [
    {
     "name": "stdout",
     "output_type": "stream",
     "text": [
      "<class 'tuple'>\n",
      "Python\n",
      "<class 'tuple'>\n",
      "('Python', 'Tuple')\n",
      "<class 'tuple'>\n",
      "<class 'str'>  -  <class 'tuple'>\n",
      "0\n",
      "1\n",
      "Python Tuple\n"
     ]
    }
   ],
   "source": [
    "# Tuple\n",
    "tuple1 = ( \"Python\" ,\"Tuple\" )\n",
    "print(type(tuple1))\n",
    "#tup[0] = \"Java\"  # tuple immutable olduğu için değişiklik yapılamaz\n",
    "print(tuple1[0]) # verilere erişme yöntemi list lerdeki ile aynı.\n",
    "tuple2 = \"Python\",\"Tuple\"\n",
    "print(type(tuple2))\n",
    "tuple3 = tuple([\"Python\",\"Tuple\"])\n",
    "print(tuple3)\n",
    "print(type(tuple3))\n",
    "tuple4 = \"Python\", # sonuna virgül koymazsak objeyi string olarak tanımlar.\n",
    "string4 = \"Python\"\n",
    "print(type(string4) , \" - \" , type(tuple4) )\n",
    "# tuple ile list arasındaki fark immutable ve mutable olmasıdır. \n",
    "print(tuple4.index(\"Python\")) # parametre olarak aldığı objenin indexini döndürür.\n",
    "print(tuple4.count(\"Python\")) # parametre olarak aldığı objeden kaçtane var onu döndürür\n",
    "t,u = tuple3 # t ye tuple3[0]  , u ya tuple3[1]  i atama işlemi yapar . atama işlemlerin kısa yolu\n",
    "print(t,u)"
   ]
  },
  {
   "cell_type": "code",
   "execution_count": 69,
   "metadata": {
    "collapsed": false
   },
   "outputs": [
    {
     "name": "stdout",
     "output_type": "stream",
     "text": [
      "[[1, 2, 3], [4, 5, 6], [7, 8, 9]]\n",
      "6\n",
      "[1, 2, 3, 4, 5, 6, 7, 8, 9]\n"
     ]
    }
   ],
   "source": [
    "# Nested List\n",
    "matrix = [\n",
    "    [1,2,3],\n",
    "    [4,5,6],\n",
    "    [7,8,9]\n",
    "]\n",
    "print(matrix)\n",
    "print(matrix[1][2])\n",
    "print([matrix[i][j] for i in range(len(matrix)) for j in range(len(matrix[i]))]) # elemanları tek tek göstermenin başka bir yöntemi \n"
   ]
  },
  {
   "cell_type": "code",
   "execution_count": 75,
   "metadata": {
    "collapsed": false
   },
   "outputs": [
    {
     "name": "stdout",
     "output_type": "stream",
     "text": [
      "{'yazılım', 'Python', 'java', 'dili', 'c'}\n",
      "{'yazılım', 'Python', 'dili', 'öğreniyorum'}\n",
      "{'java', 'c'}\n",
      "{'c', 'Python', 'java', 'dili', 'yazılım', 'öğreniyorum'}\n",
      "{'yazılım', 'Python', 'dili'}\n",
      "{'java', 'c', 'öğreniyorum'}\n"
     ]
    }
   ],
   "source": [
    "# Set\n",
    "küme = {\"Python\",\"yazılım\", \"dili\",\"java\",\"yazılım\",\"dili\",\"c\",\"yazılım\",\"dili\"} # süslü parantezler küme yi temsil eder\n",
    "print(küme) # aynı olan elemanları eklemez göstermez\n",
    "küme2 = {\"Python\",\"yazılım\",\"dili\",\"öğreniyorum\"}\n",
    "print(küme2)\n",
    "# küme ile işlem yaptığımıza göre küme işlemlerini kullanabiliriz\n",
    "print(küme-küme2) # fark\n",
    "print(küme|küme2) # birleşim\n",
    "print(küme & küme2) # kesişim\n",
    "print(küme^küme2) # birleşim - kesişim"
   ]
  },
  {
   "cell_type": "code",
   "execution_count": 112,
   "metadata": {
    "collapsed": false
   },
   "outputs": [
    {
     "name": "stdout",
     "output_type": "stream",
     "text": [
      "175\n",
      "180\n",
      "18\n",
      "{'sınıf': 18, 'yaş': 24, 'boy': 180, 'kilo': 67, 'AGNO': 4.0}\n",
      "['sınıf', 'yaş', 'boy', 'kilo', 'AGNO']\n",
      "[18, 24, 180, 67, 4.0]\n",
      "[('sınıf', 18), ('yaş', 24), ('boy', 180), ('kilo', 67), ('AGNO', 4.0)]\n",
      "True\n",
      "sınıf-yaş-boy-kilo-AGNO\n",
      "böyle bir değer bulunamamaktadır\n",
      "{'yaş': 24, 'boy': 180, 'kilo': 67, 'AGNO': 4.0}\n",
      "{'AGNO': 4.0, 'yaş': 24, 'sınıf': 18, 'kilo': 67, 'boy': 180}\n",
      "18\n",
      "{'AGNO': 4.0, 'yaş': 24, 'kilo': 67, 'boy': 180}\n",
      "4\n",
      "{'üniversite': 4, 'AGNO': 4.0, 'kilo': 67, 'yaş': 24, 'boy': 180}\n",
      "{'üniversite': 5, 'boy': 180, 'kilo': 67, 'İlk okul': 4, 'AGNO': 4.0, 'Orta okul': 4, 'Lise': 4, 'yaş': 24}\n"
     ]
    }
   ],
   "source": [
    "# Dictionaries - Sözlük\n",
    "sözlük = {\n",
    "    \"boy\" : 175,\n",
    "    \"kilo\" : 67,\n",
    "    \"yaş\" : 24 ,\n",
    "    \"AGNO\" : 4.00 # güzel olurdu\n",
    "    } # Dictionaries , key - value mantığı ile çalışır.Set gibi süslü parantezler ile tanımlanır. Key ve value ayırt edici özelliği\n",
    "print(sözlük[\"boy\"]) # değere ulaşmak içinde list gibi ama index yerine key lerimizi kullanıyoruz\n",
    "sözlük[\"boy\"] = 180 # atama ile değişiklik yapabiliyoruz\n",
    "print(sözlük[\"boy\"])\n",
    "sözlük[\"sınıf\"] = 18 # olmayan bir değer atamasınıda key'ini yazarak atayabiliyoruz.\n",
    "print(sözlük[\"sınıf\"])\n",
    "print(sözlük)\n",
    "print(list(sözlük.keys())) # Dictionaries içindeki key'leri bu şekilde çekebiliyoruz\n",
    "print(list(sözlük.values())) # Dictionaries içindeki value'ları bu şekilde çekebiliyoruz\n",
    "print(list(sözlük.items())) # Dictionaries'ın tüm değerlerini liste olarak çekip kullanabiliriz\n",
    "print(\"AGNO\" in sözlük) # bu keyden var mı işlemini kolaylıkla gerçekleştirebiliyoruz\n",
    "print(\"-\".join(sözlük)) # sözlükteki key leri \"-\" karakterini aralarına koyarak birleştirdi ve string olarak döndürdü.\n",
    "print(sözlük.get(\"deneme\",\"böyle bir değer bulunamamaktadır\")) # aradığınız key Dictionaries te yoksa ikinci parametrede verdiğiniz değer döner.\n",
    "sözlük2 = sözlük.copy()\n",
    "del sözlük[\"sınıf\"]\n",
    "print(sözlük) # key'i sınıf olan değişkeni sildik\n",
    "print(sözlük2) # copy yaptığımız için sözlük teki dğeişiklik sözlük2 yi etkilemedi\n",
    "print(sözlük2.pop(\"sınıf\")) # pop metodu veridğimiz parametrenin value'sunu döndürür ve siler , parametresiz kullanılamaz\n",
    "print(sözlük2)\n",
    "print(sözlük2.setdefault(\"üniversite\",4)) # aradığımız key sözlükte yoksa, veridğimiz ikinci parametreyi döndürür ve bunu sözlüğe ekler. \n",
    "# get() ten farkı, get() sözlüğe eklemeden sadece döndürme işlemi yaparken , setdefault() sözlüğe ekler\n",
    "print(sözlük2)\n",
    "del sözlük2 # sözlük2 yi tamamen siler, birdaha ulaşamayız\n",
    "#print(sözlük2) # hata verir - name sözlük2 is not defined\n",
    "sözlük3 = {\"üniversite\":5,\"Lise\" : 4 , \"Orta okul\" : 4 , \"İlk okul\" :4}\n",
    "sözlük.update(sözlük3) # bu metod başka bir sözlüğü eklememizi sağlar\n",
    "print(sözlük)\n"
   ]
  },
  {
   "cell_type": "code",
   "execution_count": 122,
   "metadata": {
    "collapsed": false
   },
   "outputs": [
    {
     "name": "stdout",
     "output_type": "stream",
     "text": [
      "Key yaş Value 24\n",
      "Key boy Value 175\n",
      "Key kilo Value 67\n",
      "Key AGNO Value 4.0\n",
      "[['yaş', 24], ['boy', 175], ['kilo', 67], ['AGNO', 4.0]]\n"
     ]
    }
   ],
   "source": [
    "sözlük = {\n",
    "    \"boy\" : 175,\n",
    "    \"kilo\" : 67,\n",
    "    \"yaş\" : 24 ,\n",
    "    \"AGNO\" : 4.00 # güzel olurdu\n",
    "    }\n",
    "for k,v in sözlük.items(): # böyle bir döngü ile de sözlükteki key ve value lara erişim sağlayabiliriz\n",
    "    print(\"Key \" + k + \" Value \" + str(v))\n",
    "    \n",
    "print([[k,v] for k,v in sözlük.items()])"
   ]
  }
 ],
 "metadata": {
  "kernelspec": {
   "display_name": "Python 3",
   "language": "python",
   "name": "python3"
  },
  "language_info": {
   "codemirror_mode": {
    "name": "ipython",
    "version": 3
   },
   "file_extension": ".py",
   "mimetype": "text/x-python",
   "name": "python",
   "nbconvert_exporter": "python",
   "pygments_lexer": "ipython3",
   "version": "3.5.1"
  }
 },
 "nbformat": 4,
 "nbformat_minor": 0
}
