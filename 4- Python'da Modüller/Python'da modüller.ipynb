{
 "cells": [
  {
   "cell_type": "code",
   "execution_count": 19,
   "metadata": {
    "collapsed": false
   },
   "outputs": [
    {
     "name": "stdout",
     "output_type": "stream",
     "text": [
      "['In', 'Out', 'Palindrome', '_', '__', '___', '__builtin__', '__builtins__', '__doc__', '__loader__', '__name__', '__package__', '__spec__', '_dh', '_i', '_i1', '_i10', '_i11', '_i12', '_i13', '_i14', '_i15', '_i16', '_i17', '_i18', '_i19', '_i2', '_i3', '_i4', '_i5', '_i6', '_i7', '_i8', '_i9', '_ih', '_ii', '_iii', '_oh', '_sh', 'exit', 'get_ipython', 'isPalindrome', 'palindrom', 'palindrome', 'palindrome_iterative', 'palindrome_recursive', 'quit', 'trim_lower_iterative', 'trim_lower_recursive', 'trim_lower_string_metod']\n",
      "['__builtins__', '__cached__', '__doc__', '__file__', '__loader__', '__name__', '__package__', '__spec__', 'isPalindrome', 'palindrome_iterative', 'palindrome_recursive', 'trim_lower_iterative', 'trim_lower_recursive', 'trim_lower_string_metod']\n"
     ]
    }
   ],
   "source": [
    "# Modüller\n",
    "# Palindrome.py uzantılı modülümüzü oluşturduk.\n",
    "import Palindrome # modülü bu şekilde import edebilir ve içerisindekilere adını kullanarak ulaşabiliriz.\n",
    "print(dir(Palindrome)) # kullanabileceğimiz metodları ve objeleri göre biliriz"
   ]
  },
  {
   "cell_type": "code",
   "execution_count": 4,
   "metadata": {
    "collapsed": false
   },
   "outputs": [
    {
     "name": "stdout",
     "output_type": "stream",
     "text": [
      "\n",
      "Created on Tue Mar  1 11:03:20 2016\n",
      "\n",
      "@author: yusufkorkmaz\n",
      "\n",
      "Belirlenen string in polindrome olup olmadığını test eden\n",
      "ve sonuç olarak True veya False dönen bir modül.\n",
      "\n",
      "isPalindrome(string,recursive veya iterative) metodu yer almakta\n",
      "    Parametre olarak String ve 0 değeri girdiğinizde recursive çalışmakta\n",
      "    Parametre olarak String ve 1 değeri girdiğinizde iterative çalışmakta\n",
      "\n",
      "Palindrome\n"
     ]
    }
   ],
   "source": [
    "print(Palindrome.__doc__) # Palindrome modülündeki documentation ı gösterir"
   ]
  },
  {
   "cell_type": "code",
   "execution_count": 9,
   "metadata": {
    "collapsed": false
   },
   "outputs": [
    {
     "name": "stdout",
     "output_type": "stream",
     "text": [
      "\n",
      "    \n",
      "isPalindrome metodu verilen string'i istenen metoda göre palindrome olup olmadığını sorgular\n",
      "    Parametre:\n",
      "        String ve 0 değeri girdiğinizde recursive çalışmakta\n",
      "        String ve 1 değeri girdiğinizde iterative çalışmakta\n",
      "    \n",
      "True\n"
     ]
    }
   ],
   "source": [
    "print(Palindrome.isPalindrome.__doc__) # Palindrome metodundaki documentation ı gösterir.\n",
    "# Bu dökümentation da metod u nasıl kullanacağımızı açıklamıştım.\n",
    "palindrome = Palindrome.isPalindrome(\"Are we not drawn onward, we few, drawn onward to new era\" , 1)\n",
    "# metod a palindrom olup olmadığını öğrenmek istediğimiz String i ve kullanılmasını istediğimiz (iterativ) metodu 1 yazarak belirttik.\n",
    "# çıktıyı palindrom objesine atamasını istedik ve altta onu yazdırdık\n",
    "print(palindrome) # -> True - verdiğimiz string iterativ metodu kullanılarak palindrom olduğu çıktısını verdi."
   ]
  },
  {
   "cell_type": "code",
   "execution_count": 13,
   "metadata": {
    "collapsed": false,
    "scrolled": true
   },
   "outputs": [
    {
     "ename": "NameError",
     "evalue": "name 'Palindrome' is not defined",
     "output_type": "error",
     "traceback": [
      "\u001b[0;31m---------------------------------------------------------------------------\u001b[0m",
      "\u001b[0;31mNameError\u001b[0m                                 Traceback (most recent call last)",
      "\u001b[0;32m<ipython-input-13-84c163c787c7>\u001b[0m in \u001b[0;36m<module>\u001b[0;34m()\u001b[0m\n\u001b[0;32m----> 1\u001b[0;31m \u001b[0;32mdel\u001b[0m \u001b[0mPalindrome\u001b[0m\u001b[0;34m\u001b[0m\u001b[0m\n\u001b[0m\u001b[1;32m      2\u001b[0m \u001b[0mprint\u001b[0m\u001b[0;34m(\u001b[0m\u001b[0mdir\u001b[0m\u001b[0;34m(\u001b[0m\u001b[0mPalindrome\u001b[0m\u001b[0;34m)\u001b[0m\u001b[0;34m)\u001b[0m\u001b[0;34m\u001b[0m\u001b[0m\n",
      "\u001b[0;31mNameError\u001b[0m: name 'Palindrome' is not defined"
     ]
    }
   ],
   "source": [
    "del Palindrome # import ettiğimiz Palindrome modülünü sildik\n",
    "print(dir(Palindrome)) # Palindrome modülünü kullanmak istediğimizde hata döndürecektir."
   ]
  },
  {
   "cell_type": "code",
   "execution_count": 21,
   "metadata": {
    "collapsed": false
   },
   "outputs": [
    {
     "name": "stdout",
     "output_type": "stream",
     "text": [
      "['In', 'Out', 'Palindrome', '_', '__', '___', '__builtin__', '__builtins__', '__doc__', '__loader__', '__name__', '__package__', '__spec__', '_dh', '_i', '_i1', '_i10', '_i11', '_i12', '_i13', '_i14', '_i15', '_i16', '_i17', '_i18', '_i19', '_i2', '_i20', '_i21', '_i3', '_i4', '_i5', '_i6', '_i7', '_i8', '_i9', '_ih', '_ii', '_iii', '_oh', '_sh', 'exit', 'get_ipython', 'isPalindrome', 'palindrom', 'palindrome', 'palindrome_iterative', 'palindrome_recursive', 'quit', 'trim_lower_iterative', 'trim_lower_recursive', 'trim_lower_string_metod']\n"
     ]
    }
   ],
   "source": [
    "from Palindrome import * # bir başka modül ekleme yöntemi,burada modülün içerisindeki metodları ekledik sanki bu modülün metodları gibi kullanabiliriz.\n",
    "print(dir()) # Palindrome modülünün içerisindeki metodlar sanki bu modül'e aitmiş gibi kullanabileceğimizi çıktıda görüyoruz."
   ]
  },
  {
   "cell_type": "code",
   "execution_count": 24,
   "metadata": {
    "collapsed": false
   },
   "outputs": [
    {
     "name": "stdout",
     "output_type": "stream",
     "text": [
      "True\n"
     ]
    }
   ],
   "source": [
    "palindrome = isPalindrome(\"Ulu eli milatlık anam az namazlık zaman ara namaz kıl zaman zaman akıl talim ile ulu\",0)\n",
    "print(palindrome)"
   ]
  },
  {
   "cell_type": "code",
   "execution_count": 27,
   "metadata": {
    "collapsed": false
   },
   "outputs": [
    {
     "name": "stdout",
     "output_type": "stream",
     "text": [
      "['', '/Users/yusufkorkmaz/anaconda/lib/python35.zip', '/Users/yusufkorkmaz/anaconda/lib/python3.5', '/Users/yusufkorkmaz/anaconda/lib/python3.5/plat-darwin', '/Users/yusufkorkmaz/anaconda/lib/python3.5/lib-dynload', '/Users/yusufkorkmaz/anaconda/lib/python3.5/site-packages/Sphinx-1.3.5-py3.5.egg', '/Users/yusufkorkmaz/anaconda/lib/python3.5/site-packages/setuptools-19.6.2-py3.5.egg', '/Users/yusufkorkmaz/anaconda/lib/python3.5/site-packages', '/Users/yusufkorkmaz/anaconda/lib/python3.5/site-packages/aeosa', '/Users/yusufkorkmaz/anaconda/lib/python3.5/site-packages/IPython/extensions', '/Users/yusufkorkmaz/.ipython']\n",
      "\n",
      "/Users/yusufkorkmaz/anaconda/lib/python35.zip\n",
      "/Users/yusufkorkmaz/anaconda/lib/python3.5\n",
      "/Users/yusufkorkmaz/anaconda/lib/python3.5/plat-darwin\n",
      "/Users/yusufkorkmaz/anaconda/lib/python3.5/lib-dynload\n",
      "/Users/yusufkorkmaz/anaconda/lib/python3.5/site-packages/Sphinx-1.3.5-py3.5.egg\n",
      "/Users/yusufkorkmaz/anaconda/lib/python3.5/site-packages/setuptools-19.6.2-py3.5.egg\n",
      "/Users/yusufkorkmaz/anaconda/lib/python3.5/site-packages\n",
      "/Users/yusufkorkmaz/anaconda/lib/python3.5/site-packages/aeosa\n",
      "/Users/yusufkorkmaz/anaconda/lib/python3.5/site-packages/IPython/extensions\n",
      "/Users/yusufkorkmaz/.ipython\n"
     ]
    },
    {
     "data": {
      "text/plain": [
       "'\\nPython da bir modül eklemek istediğiniz zaman çıktıda gördüğünüz dosya uzantılarında arıyor.\\nBulduğu taktirde ekleme işlemini gerçekleştiriyor eğer bulamazsa hata mesajı döndürüyor.\\nPeki kendi yazdığımız modülü illa bu dosya uzantılarına mı taşımamız gerekir?\\n    Hayır! \\nsys.path bir liste olduğu için dosya uzantımızı ekleyebiliriz\\n    sys.path.append(\"/Users/yusufkorkmaz/PythonProjects\")\\nBu işlem dosya uzantımızı en sona ekleyecektir.\\nEğer daha hızlı olmasını istiyorsak insert metodunu kullanarak 0. index e eklemesini sağlayabiliriz.\\n'"
      ]
     },
     "execution_count": 27,
     "metadata": {},
     "output_type": "execute_result"
    }
   ],
   "source": [
    "# modülleri eklemek için ya sys modülünün path listesindeki dosya uzantılarından birinde olması gerekir\n",
    "# veya aynı dosya uzantısına sahip olmaları gerekir.\n",
    "import sys # sys modülünü import ettik\n",
    "print(sys.path) # modülleri aradığı listeyi ekrana yazdırdık\n",
    "for uzantı in sys.path:\n",
    "    print(uzantı) # daha okunaklı olsun diyorsak.\n",
    "\"\"\"\n",
    "Python da bir modül eklemek istediğiniz zaman çıktıda gördüğünüz dosya uzantılarında arıyor.\n",
    "Bulduğu taktirde ekleme işlemini gerçekleştiriyor eğer bulamazsa hata mesajı döndürüyor.\n",
    "Peki kendi yazdığımız modülü illa bu dosya uzantılarına mı taşımamız gerekir?\n",
    "    Hayır! \n",
    "sys.path bir liste olduğu için dosya uzantımızı ekleyebiliriz\n",
    "    sys.path.append(\"/Users/yusufkorkmaz/PythonProjects\")\n",
    "Bu işlem dosya uzantımızı en sona ekleyecektir.\n",
    "Eğer daha hızlı olmasını istiyorsak insert metodunu kullanarak 0. index e eklemesini sağlayabiliriz.\n",
    "\"\"\""
   ]
  },
  {
   "cell_type": "code",
   "execution_count": 53,
   "metadata": {
    "collapsed": false
   },
   "outputs": [
    {
     "name": "stdout",
     "output_type": "stream",
     "text": [
      "\n",
      "/Users/yusufkorkmaz/anaconda/lib/python35.zip\n",
      "/Users/yusufkorkmaz/anaconda/lib/python3.5\n",
      "/Users/yusufkorkmaz/anaconda/lib/python3.5/plat-darwin\n",
      "/Users/yusufkorkmaz/anaconda/lib/python3.5/lib-dynload\n",
      "/Users/yusufkorkmaz/anaconda/lib/python3.5/site-packages/Sphinx-1.3.5-py3.5.egg\n",
      "/Users/yusufkorkmaz/anaconda/lib/python3.5/site-packages/setuptools-19.6.2-py3.5.egg\n",
      "/Users/yusufkorkmaz/anaconda/lib/python3.5/site-packages\n",
      "/Users/yusufkorkmaz/anaconda/lib/python3.5/site-packages/aeosa\n",
      "/Users/yusufkorkmaz/anaconda/lib/python3.5/site-packages/IPython/extensions\n",
      "/Users/yusufkorkmaz/.ipython\n",
      "/Users/yusufkorkmaz/PythonProjects\n"
     ]
    }
   ],
   "source": [
    "sys.path.append(\"/Users/yusufkorkmaz/PythonProjects\")\n",
    "for uzantı in sys.path:\n",
    "    print(uzantı) \n",
    "#Çıktıda görüldüğü üzere dosya uzantımızı ekledik ve kendi yazdığımız modülleride projelerimize bu şekilde import edebileceğiz"
   ]
  }
 ],
 "metadata": {
  "kernelspec": {
   "display_name": "Python 3",
   "language": "python",
   "name": "python3"
  },
  "language_info": {
   "codemirror_mode": {
    "name": "ipython",
    "version": 3
   },
   "file_extension": ".py",
   "mimetype": "text/x-python",
   "name": "python",
   "nbconvert_exporter": "python",
   "pygments_lexer": "ipython3",
   "version": "3.5.1"
  }
 },
 "nbformat": 4,
 "nbformat_minor": 0
}
