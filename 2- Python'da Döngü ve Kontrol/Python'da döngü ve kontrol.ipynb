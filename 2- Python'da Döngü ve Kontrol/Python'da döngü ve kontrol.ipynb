{
 "cells": [
  {
   "cell_type": "code",
   "execution_count": 7,
   "metadata": {
    "collapsed": false
   },
   "outputs": [
    {
     "name": "stdout",
     "output_type": "stream",
     "text": [
      "Her daim yazdırır\n",
      "x 9 e eşittir\n",
      "x pozitif bir sayıdır\n"
     ]
    }
   ],
   "source": [
    "# if \n",
    "if True: # if statements in yanındaki true ise o blog daki kod satırını çalıştırır.\n",
    "    print(\"Her daim yazdırır\")\n",
    "x = 9\n",
    "if x == 8:\n",
    "    print(\"x 8 a eşittir\")\n",
    "elif x == 9:\n",
    "    print(\"x 9 e eşittir\")\n",
    "elif x == 10:\n",
    "    print(\"x 10 a eşittir\")\n",
    "else:\n",
    "    print(\"x 8,9 veya 10 a eşit değildir\")\n",
    "\n",
    "if x < 0:\n",
    "    print(\"x negatif bir sayıdır\")\n",
    "else:\n",
    "    print(\"x pozitif bir sayıdır\")\n"
   ]
  },
  {
   "cell_type": "code",
   "execution_count": 39,
   "metadata": {
    "collapsed": false
   },
   "outputs": [
    {
     "name": "stdout",
     "output_type": "stream",
     "text": [
      "M\n",
      "e\n",
      "r\n",
      "h\n",
      "a\n",
      "b\n",
      "a\n",
      " \n",
      "D\n",
      "ü\n",
      "n\n",
      "y\n",
      "a\n",
      "!\n",
      "Python = 6 :) \n",
      "Severler = 8 :) \n",
      "Dünyasına = 9 :) \n",
      "Hoşgeldiniz = 11 :) \n",
      "0 dan 10 a kadar olan sayiların toplamı = 45\n"
     ]
    }
   ],
   "source": [
    "# For döngüsü\n",
    "kelime = \"Merhaba Dünya!\" # text lerin karakter dizi olduğunu söylemiştir\n",
    "for karakter in kelime: # kelimedeki her karakteri sırasıyla karakter değişkenine atayacak\n",
    "    print(karakter)\n",
    "kelimeler = [\"Python\",\"Severler\",\"Dünyasına\",\"Hoşgeldiniz\"]\n",
    "for kelime in kelimeler:\n",
    "    print(kelime , \"=\" ,len(kelime) , end = \" :) \\n\")\n",
    "toplam = 0\n",
    "for sayi in range(10): # range içerisine verdiğimiz sayıya kadar 0 dan başlayarak bir dizi oluşturur\n",
    "    toplam = toplam + sayi\n",
    "print(\"0 dan 10 a kadar olan sayiların toplamı = \" + str(toplam))"
   ]
  },
  {
   "cell_type": "code",
   "execution_count": 41,
   "metadata": {
    "collapsed": false
   },
   "outputs": [
    {
     "name": "stdout",
     "output_type": "stream",
     "text": [
      "[0, 1, 2, 3, 4, 5, 6, 7, 8, 9]\n",
      "[2, 7, 12, 17]\n"
     ]
    }
   ],
   "source": [
    "# range()\n",
    "range(10) # 0 dan 10 a kadar dizi oluşturur\n",
    "print(list(range(10)))\n",
    "range(2,22,5) # 2 den başlayarak 5 arttırarak 22 ye kadar gelen sayıların dizisini oluşturur.\n",
    "print(list(range (2,22,5)))\n"
   ]
  },
  {
   "cell_type": "code",
   "execution_count": 43,
   "metadata": {
    "collapsed": false
   },
   "outputs": [
    {
     "name": "stdout",
     "output_type": "stream",
     "text": [
      "M\n",
      "e\n",
      "r\n",
      "h\n",
      "a\n",
      "b\n",
      "a\n",
      " \n",
      "D\n",
      "ü\n",
      "n\n",
      "y\n",
      "a\n",
      "!\n",
      "Python = 6 :) \n",
      "Severler = 8 :) \n",
      "Dünyasına = 9 :) \n",
      "Hoşgeldiniz = 11 :) \n",
      "0 dan 10 a kadar olan sayiların toplamı = 45\n"
     ]
    }
   ],
   "source": [
    "# While döngüsü\n",
    "# for döngüsünde gerçekleştirdiklerimizin aynısını while da uygularsak\n",
    "kelime = \"Merhaba Dünya!\" # text lerin karakter dizi olduğunu söylemiştir\n",
    "i = 0\n",
    "while i < len(kelime) : # kelimedeki her karakteri sırasıyla karakter değişkenine atayacak\n",
    "    print(kelime[i])\n",
    "    i = i + 1\n",
    "\n",
    "kelimeler = [\"Python\",\"Severler\",\"Dünyasına\",\"Hoşgeldiniz\"]\n",
    "j = 0\n",
    "while j < len(kelimeler):\n",
    "    print(kelimeler[j] , \"=\" ,len(kelimeler[j]) , end = \" :) \\n\")\n",
    "    j = j + 1\n",
    "\n",
    "toplam = 0\n",
    "k = 0\n",
    "dizi = list(range(10))\n",
    "while k <  len(dizi): # range içerisine verdiğimiz sayıya kadar 0 dan başlayarak bir dizi oluşturur\n",
    "    toplam = toplam + dizi[k]\n",
    "    k = k + 1\n",
    "print(\"0 dan 10 a kadar olan sayiların toplamı = \" + str(toplam))\n",
    "# while döngüsünde index i bizim kontrol etmemiz gerekiyor."
   ]
  },
  {
   "cell_type": "code",
   "execution_count": 47,
   "metadata": {
    "collapsed": false
   },
   "outputs": [
    {
     "name": "stdout",
     "output_type": "stream",
     "text": [
      "100\n",
      "Merhaba yazılımcı\n",
      "Merhaba developer\n",
      "Merhaba python a hoş geldin!\n"
     ]
    }
   ],
   "source": [
    "# metod tanımlama\n",
    "def topla(a,b): # def ile metod tanımlayacağımızı , metod ismini , (metod a göndereceğimiz parametreleri) belirtiyoruz.\n",
    "    return a+b # işlemimizi yapıp return ile döndürmek istediğimiz sonucu döndürüyoruz.\n",
    "\n",
    "print(topla(10,90))\n",
    "\n",
    "def hello_world(text):\n",
    "    return \"Merhaba \" + text \n",
    "\n",
    "print(hello_world(\"yazılımcı\"))\n",
    "\n",
    "def hello_world2(text=\"developer\"): # default parametre tanımlayabiliyoruz.\n",
    "    return \"Merhaba \" + text \n",
    "\n",
    "print(hello_world2())\n",
    "print(hello_world2(\"python a hoş geldin!\"))"
   ]
  },
  {
   "cell_type": "code",
   "execution_count": null,
   "metadata": {
    "collapsed": true
   },
   "outputs": [],
   "source": []
  }
 ],
 "metadata": {
  "kernelspec": {
   "display_name": "Python 3",
   "language": "python",
   "name": "python3"
  },
  "language_info": {
   "codemirror_mode": {
    "name": "ipython",
    "version": 3
   },
   "file_extension": ".py",
   "mimetype": "text/x-python",
   "name": "python",
   "nbconvert_exporter": "python",
   "pygments_lexer": "ipython3",
   "version": "3.5.1"
  }
 },
 "nbformat": 4,
 "nbformat_minor": 0
}
